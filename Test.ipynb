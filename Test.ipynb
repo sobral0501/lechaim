{
    "cells": [
        {
            "metadata": {},
            "cell_type": "code",
            "source": "#DETERMINING GRADES BY AGE\nage=int(\"1\")\nwhile age !=0:\n    age = int(input(\"Entet Age:\"))\n    if (age > 5) and (age <= 17):\n        grade = age - 5\n        print(\"Go to Grade {}\".format(grade))\n        print(\"Enter 0 to Exit\")\n    elif age == 5:\n        print(\"Go to Kindergarten\")\n",
            "execution_count": 2,
            "outputs": [
                {
                    "output_type": "stream",
                    "name": "stdout",
                    "text": "Entet Age:13\nGo to Grade 8\nEnter 0 to Exit\nEntet Age:0\n"
                }
            ]
        },
        {
            "metadata": {},
            "cell_type": "code",
            "source": "",
            "execution_count": null,
            "outputs": []
        }
    ],
    "metadata": {
        "kernelspec": {
            "name": "python3",
            "display_name": "Python 3.6",
            "language": "python"
        },
        "language_info": {
            "name": "python",
            "version": "3.6.9",
            "mimetype": "text/x-python",
            "codemirror_mode": {
                "name": "ipython",
                "version": 3
            },
            "pygments_lexer": "ipython3",
            "nbconvert_exporter": "python",
            "file_extension": ".py"
        }
    },
    "nbformat": 4,
    "nbformat_minor": 1
}